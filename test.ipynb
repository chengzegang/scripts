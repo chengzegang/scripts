{
 "cells": [
  {
   "cell_type": "code",
   "execution_count": 1,
   "metadata": {},
   "outputs": [],
   "source": [
    "import cv2\n",
    "import numpy as np\n",
    "import matplotlib.pyplot as plt\n",
    "from ipywidgets import interact, Play, IntSlider, jslink, HBox\n",
    "import os\n",
    "from scipy.spatial.transform import Rotation as R"
   ]
  },
  {
   "cell_type": "code",
   "execution_count": 2,
   "metadata": {},
   "outputs": [],
   "source": [
    "img_paths = os.listdir(\"/mnt/d/data/turtlebot_video/2023-5-3-1/\")\n",
    "img_paths = [os.path.join(\"/mnt/d/data/turtlebot_video/2023-5-3-1/\", img_path) for img_path in img_paths]\n",
    "img_paths = sorted(img_paths)\n",
    "xmap = np.loadtxt('xmap_1472.pgm').astype(np.float32)\n",
    "ymap = np.loadtxt('ymap_1472.pgm').astype(np.float32)"
   ]
  },
  {
   "cell_type": "code",
   "execution_count": 3,
   "metadata": {},
   "outputs": [],
   "source": [
    "def spherical_project(XYZ):\n",
    "    lat = np.arcsin(XYZ[..., 2])\n",
    "    lon = np.arctan2(XYZ[..., 1], XYZ[..., 0])\n",
    "\n",
    "    x = lon / np.pi\n",
    "    y = lat / np.pi * 2\n",
    "\n",
    "    xy = np.stack((x, y), axis=-1)\n",
    "    return xy\n",
    "\n",
    "\n",
    "def spherical_project_inverse(xy, r: float = 1.0):\n",
    "    lon = np.pi * xy[..., 0]\n",
    "    lat = np.pi * xy[..., 1] / 2\n",
    "\n",
    "    XYZ = np.stack(\n",
    "        (\n",
    "            np.cos(lat) * np.cos(lon),\n",
    "            np.cos(lat) * np.sin(lon),\n",
    "            np.sin(lat),\n",
    "        ),\n",
    "        axis=-1,\n",
    "    )\n",
    "    return XYZ"
   ]
  },
  {
   "cell_type": "code",
   "execution_count": 4,
   "metadata": {},
   "outputs": [
    {
     "data": {
      "application/vnd.jupyter.widget-view+json": {
       "model_id": "f0834708bc9c43d89d368daa3c201072",
       "version_major": 2,
       "version_minor": 0
      },
      "text/plain": [
       "interactive(children=(IntSlider(value=0, description='i', max=6357), Output()), _dom_classes=('widget-interact…"
      ]
     },
     "metadata": {},
     "output_type": "display_data"
    },
    {
     "data": {
      "application/vnd.jupyter.widget-view+json": {
       "model_id": "50a6487a4fde400cad5b6195546386ab",
       "version_major": 2,
       "version_minor": 0
      },
      "text/plain": [
       "HBox(children=(Play(value=400, description='Press play', interval=200, max=6357, min=400), IntSlider(value=0, …"
      ]
     },
     "execution_count": 4,
     "metadata": {},
     "output_type": "execute_result"
    }
   ],
   "source": [
    "\n",
    "def show(i=10):\n",
    "    img = cv2.imread(img_paths[i])\n",
    "    img = cv2.cvtColor(img, cv2.COLOR_BGR2RGB)\n",
    "    h, w, c = img.shape\n",
    "    res = cv2.remap(img, xmap.astype(np.float32), ymap.astype(np.float32), cv2.INTER_AREA, borderMode=cv2.BORDER_REPLICATE)\n",
    "    x, y = np.meshgrid(np.arange(w), np.arange(h))\n",
    "    x = x / w * 2 - 1\n",
    "    y = y / h * 2 - 1\n",
    "    xy = np.stack((x, y), axis=-1)\n",
    "    xyz = spherical_project_inverse(xy)\n",
    "    rot = R.from_euler('xyz', [180, 90, 0], degrees=True).as_matrix()\n",
    "    xyz = xyz @ rot.T\n",
    "    xy = spherical_project(xyz)\n",
    "    x = xy[..., 0]\n",
    "    y = xy[..., 1]\n",
    "    xmap2 = (x + 1) / 2 * w\n",
    "    ymap2 = (y + 1) / 2 * h\n",
    "    res = cv2.remap(res, xmap2.astype(np.float32), ymap2.astype(np.float32), cv2.INTER_AREA, borderMode=cv2.BORDER_REPLICATE)\n",
    "    fig = plt.figure(figsize=(10, 5))\n",
    "    plt.imshow(res)\n",
    "    plt.show()\n",
    "\n",
    "play = Play(\n",
    "    value=0,\n",
    "    min=400,\n",
    "    max=len(img_paths)-1,\n",
    "    step=1,\n",
    "    interval=200,\n",
    "    description=\"Press play\",\n",
    "    disabled=False\n",
    ")\n",
    "slider = IntSlider(0, 0, len(img_paths)-1, 1)\n",
    "display = interact(show, i=slider)\n",
    "jslink((play, 'value'), (slider, 'value'))\n",
    "HBox([play, slider])"
   ]
  },
  {
   "cell_type": "code",
   "execution_count": null,
   "metadata": {},
   "outputs": [],
   "source": []
  }
 ],
 "metadata": {
  "kernelspec": {
   "display_name": "base",
   "language": "python",
   "name": "python3"
  },
  "language_info": {
   "codemirror_mode": {
    "name": "ipython",
    "version": 3
   },
   "file_extension": ".py",
   "mimetype": "text/x-python",
   "name": "python",
   "nbconvert_exporter": "python",
   "pygments_lexer": "ipython3",
   "version": "3.10.10"
  },
  "orig_nbformat": 4
 },
 "nbformat": 4,
 "nbformat_minor": 2
}
